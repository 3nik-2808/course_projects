{
  "nbformat": 4,
  "nbformat_minor": 0,
  "metadata": {
    "colab": {
      "provenance": []
    },
    "kernelspec": {
      "name": "python3",
      "display_name": "Python 3"
    },
    "language_info": {
      "name": "python"
    },
    "accelerator": "GPU",
    "gpuClass": "standard"
  },
  "cells": [
    {
      "cell_type": "markdown",
      "source": [
        "This block of code importing libraries necessary in data loading, data pre-processing, model definition, training and evaluate."
      ],
      "metadata": {
        "id": "K7ruIIj59vwa"
      }
    },
    {
      "cell_type": "code",
      "execution_count": null,
      "metadata": {
        "id": "l3Q8FarFcMyl"
      },
      "outputs": [],
      "source": [
        "import string\n",
        "import re\n",
        "from numpy import array, argmax, random, take\n",
        "import pandas as pd\n",
        "from keras.models import Sequential\n",
        "from keras.layers import Dense, LSTM, Embedding, RepeatVector, Bidirectional, Attention, Input, Dropout\n",
        "from keras.preprocessing.text import Tokenizer, tokenizer_from_json\n",
        "from keras.callbacks import ModelCheckpoint\n",
        "from keras.utils import pad_sequences\n",
        "from keras.models import load_model\n",
        "from keras import optimizers\n",
        "import matplotlib.pyplot as plt\n",
        "%matplotlib inline\n",
        "pd.set_option('display.max_colwidth', 200)"
      ]
    },
    {
      "cell_type": "markdown",
      "source": [
        "Define the sentences filter function to remove sentences with special characters and exceeding maximum length."
      ],
      "metadata": {
        "id": "BZel83Aq-BE8"
      }
    },
    {
      "cell_type": "code",
      "source": [
        "a = string.printable\n",
        "\n",
        "sample_char = a[0:79]\n",
        "sample_char += \" \"\n",
        "sample_char += \"–\"\n",
        "\n",
        "def sentences_filter(sentence, max_letters):\n",
        "    state = True\n",
        "    if (len(sentence) > max_letters):\n",
        "      state = False\n",
        "    else:\n",
        "      for char in sentence:\n",
        "        if char not in sample_char:\n",
        "          state = False\n",
        "          break\n",
        "    return state"
      ],
      "metadata": {
        "id": "I9DHlVOacaKZ"
      },
      "execution_count": null,
      "outputs": []
    },
    {
      "cell_type": "code",
      "source": [
        "# Mount Google Drive to Colab\n",
        "from google.colab import drive\n",
        "drive.mount('/content/drive')"
      ],
      "metadata": {
        "colab": {
          "base_uri": "https://localhost:8080/"
        },
        "id": "efNoeEJNc-dr",
        "outputId": "594a9dcf-9cf7-46d6-cbd6-e11c871069ed"
      },
      "execution_count": null,
      "outputs": [
        {
          "output_type": "stream",
          "name": "stdout",
          "text": [
            "Mounted at /content/drive\n"
          ]
        }
      ]
    },
    {
      "cell_type": "markdown",
      "source": [
        "This block of code load data from file and then split the data by lines."
      ],
      "metadata": {
        "id": "eVKd-rb0-R8v"
      }
    },
    {
      "cell_type": "code",
      "source": [
        "# Split data in lines\n",
        "\n",
        "data_dir = \"/content/drive/MyDrive/Project/AI/data/PhoMT/tokenization/train/\"\n",
        "en_sents = open(data_dir + \"train.en\", \"r\").read().splitlines()\n",
        "vi_sents = open(data_dir + \"train.vi\", \"r\").read().splitlines()"
      ],
      "metadata": {
        "id": "SI9a6HGRdfIA"
      },
      "execution_count": null,
      "outputs": []
    },
    {
      "cell_type": "markdown",
      "source": [
        "\n",
        "This block of code applies filter to each sentences, then assign the filtered sentences to a new dataset. Finally, it deletes old data variables for RAM optimization.\n",
        "\n"
      ],
      "metadata": {
        "id": "qAEZMyTrBTf-"
      }
    },
    {
      "cell_type": "code",
      "source": [
        "# Data filtering\n",
        "\n",
        "en_data = []\n",
        "vi_data = []\n",
        "\n",
        "sents_id = []\n",
        "\n",
        "for i in range(len(en_sents)):\n",
        "  if sentences_filter(en_sents[i], 200):\n",
        "    sents_id.append(i)\n",
        "\n",
        "for id in sents_id:\n",
        "  en_data.append(en_sents[id])\n",
        "  vi_data.append(vi_sents[id])\n",
        "\n",
        "# Clean unnecessary variables from RAM\n",
        "\n",
        "del en_sents, vi_sents, sents_id"
      ],
      "metadata": {
        "id": "kaINr4kbdnCE"
      },
      "execution_count": null,
      "outputs": []
    },
    {
      "cell_type": "code",
      "source": [
        "# Test data after filtering\n",
        "\n",
        "print(en_data[100000])\n",
        "print(vi_data[100000])\n"
      ],
      "metadata": {
        "colab": {
          "base_uri": "https://localhost:8080/"
        },
        "id": "Un_hR9vLAXHT",
        "outputId": "e7fe95f2-2fe7-4eb6-c234-e6e01f5653c3"
      },
      "execution_count": null,
      "outputs": [
        {
          "output_type": "stream",
          "name": "stdout",
          "text": [
            "And we call that landmass Pangea .\n",
            "Và chúng ta gọi vùng đất đó là Pangea .\n"
          ]
        }
      ]
    },
    {
      "cell_type": "code",
      "source": [
        "# Cut to small data.\n",
        "\n",
        "sample_nums = 256000\n",
        "\n",
        "en_data = en_data[:sample_nums]\n",
        "vi_data = vi_data[:sample_nums]"
      ],
      "metadata": {
        "id": "QhpWkmPmCrtI"
      },
      "execution_count": null,
      "outputs": []
    },
    {
      "cell_type": "code",
      "source": [
        "# function to build a tokenizer\n",
        "def tokenization(lines):\n",
        "    tokenizer = Tokenizer()\n",
        "    tokenizer.fit_on_texts(lines)\n",
        "    return tokenizer"
      ],
      "metadata": {
        "id": "-5DT2iYbBP1s"
      },
      "execution_count": null,
      "outputs": []
    },
    {
      "cell_type": "markdown",
      "source": [
        "These two blocks of code below perform tokenization on both languages consecutively. Also, they define the maximum number of words in a sentence in data (the rest of words will be padded)."
      ],
      "metadata": {
        "id": "aAMj88LMBnzk"
      }
    },
    {
      "cell_type": "code",
      "source": [
        "import io\n",
        "import json\n",
        "\n",
        "# prepare english tokenizer\n",
        "eng_tokenizer = tokenization(en_data)\n",
        "eng_vocab_size = len(eng_tokenizer.word_index) + 1\n",
        "\n",
        "eng_length = 40\n",
        "print('English Vocabulary Size: %d' % eng_vocab_size)\n",
        "\n",
        "eng_tokenizer_json = eng_tokenizer.to_json()\n",
        "with io.open('/content/drive/MyDrive/Project/AI/tokenizer/eng_tokenizer.json', 'w', encoding='utf-8') as f:\n",
        "    f.write(json.dumps(eng_tokenizer_json, ensure_ascii=False))"
      ],
      "metadata": {
        "colab": {
          "base_uri": "https://localhost:8080/"
        },
        "id": "Bv7BeAaSCVX_",
        "outputId": "d70841ac-4d2f-495f-f2dc-53a41ab6e73b"
      },
      "execution_count": null,
      "outputs": [
        {
          "output_type": "stream",
          "name": "stdout",
          "text": [
            "English Vocabulary Size: 52889\n"
          ]
        }
      ]
    },
    {
      "cell_type": "code",
      "source": [
        "# prepare vietnamese tokenizer\n",
        "vi_tokenizer = tokenization(vi_data)\n",
        "vi_vocab_size = len(vi_tokenizer.word_index) + 1\n",
        "\n",
        "vi_length = 60\n",
        "print('Vietnamese Vocabulary Size: %d' % vi_vocab_size)\n",
        "\n",
        "vi_tokenizer_json = vi_tokenizer.to_json()\n",
        "with io.open('/content/drive/MyDrive/Project/AI/tokenizer/vi_tokenizer.json', 'w', encoding='utf-8') as f:\n",
        "    f.write(json.dumps(vi_tokenizer_json, ensure_ascii=False))"
      ],
      "metadata": {
        "colab": {
          "base_uri": "https://localhost:8080/"
        },
        "id": "MoA8wcudCYTC",
        "outputId": "d8dfdf71-34d4-43e3-ae37-9259031c6287"
      },
      "execution_count": null,
      "outputs": [
        {
          "output_type": "stream",
          "name": "stdout",
          "text": [
            "Vietnamese Vocabulary Size: 25732\n"
          ]
        }
      ]
    },
    {
      "cell_type": "markdown",
      "source": [
        "This block of code define encoder function using pre-defined tokenizers and maximum sentence's length."
      ],
      "metadata": {
        "id": "usl1-qKTCEmI"
      }
    },
    {
      "cell_type": "code",
      "source": [
        "# encode and pad sequences\n",
        "def encode_sequences(tokenizer, length, lines):\n",
        "    seq = tokenizer.texts_to_sequences(lines)\n",
        "    # pad sequences with 0 values\n",
        "    seq = pad_sequences(seq, maxlen=length, padding='post')\n",
        "    return seq"
      ],
      "metadata": {
        "id": "OlrlSr6ND5VD"
      },
      "execution_count": null,
      "outputs": []
    },
    {
      "cell_type": "markdown",
      "source": [
        "Encode data for training."
      ],
      "metadata": {
        "id": "XLCaMlULCSpk"
      }
    },
    {
      "cell_type": "code",
      "source": [
        "# prepare training data\n",
        "trainX = encode_sequences(eng_tokenizer, eng_length, en_data)\n",
        "trainY = encode_sequences(vi_tokenizer, vi_length, vi_data)"
      ],
      "metadata": {
        "id": "5YbW7wVaD5wy"
      },
      "execution_count": null,
      "outputs": []
    },
    {
      "cell_type": "code",
      "source": [
        "# build NMT model\n",
        "def define_model(in_vocab,out_vocab, in_timesteps,out_timesteps,units):\n",
        "    model = Sequential()\n",
        "    model.add(Embedding(in_vocab, units, input_length=in_timesteps, mask_zero=True))\n",
        "    model.add(LSTM(units))\n",
        "    model.add(RepeatVector(out_timesteps))\n",
        "    model.add(LSTM(units, return_sequences=True))\n",
        "    model.add(Dense(out_vocab, activation='softmax'))\n",
        "    return model"
      ],
      "metadata": {
        "id": "7RN0jlI_EdQA"
      },
      "execution_count": null,
      "outputs": []
    },
    {
      "cell_type": "code",
      "source": [
        "# model compilation\n",
        "model = define_model(eng_vocab_size, vi_vocab_size, eng_length, vi_length, 512)"
      ],
      "metadata": {
        "id": "Iu4owIYpEw1j"
      },
      "execution_count": null,
      "outputs": []
    },
    {
      "cell_type": "code",
      "source": [
        "rms = optimizers.RMSprop(lr=0.001)\n",
        "model.compile(optimizer=rms, loss='sparse_categorical_crossentropy')"
      ],
      "metadata": {
        "id": "Z10SbXKME86e"
      },
      "execution_count": null,
      "outputs": []
    },
    {
      "cell_type": "code",
      "source": [
        "model.summary()"
      ],
      "metadata": {
        "colab": {
          "base_uri": "https://localhost:8080/"
        },
        "id": "RvYaTBe9FGNn",
        "outputId": "81c90a83-68a2-4a68-add3-f44fa4f75b47"
      },
      "execution_count": null,
      "outputs": [
        {
          "output_type": "stream",
          "name": "stdout",
          "text": [
            "Model: \"sequential_13\"\n",
            "_________________________________________________________________\n",
            " Layer (type)                Output Shape              Param #   \n",
            "=================================================================\n",
            " embedding_15 (Embedding)    (None, 40, 512)           27079168  \n",
            "                                                                 \n",
            " lstm_19 (LSTM)              (None, 512)               2099200   \n",
            "                                                                 \n",
            " repeat_vector_7 (RepeatVect  (None, 60, 512)          0         \n",
            " or)                                                             \n",
            "                                                                 \n",
            " lstm_20 (LSTM)              (None, 60, 512)           2099200   \n",
            "                                                                 \n",
            " dense_6 (Dense)             (None, 60, 25732)         13200516  \n",
            "                                                                 \n",
            "=================================================================\n",
            "Total params: 44,478,084\n",
            "Trainable params: 44,478,084\n",
            "Non-trainable params: 0\n",
            "_________________________________________________________________\n"
          ]
        }
      ]
    },
    {
      "cell_type": "code",
      "source": [
        "filename = '/content/drive/MyDrive/Project/AI/model/lstm_en_vi_1.1.h5'\n",
        "checkpoint = ModelCheckpoint(filename, monitor='val_loss', verbose=1, save_best_only=True, mode='min')\n",
        "\n",
        "# train model\n",
        "history = model.fit(trainX, trainY.reshape(trainY.shape[0], trainY.shape[1], 1),\n",
        "                    epochs=10, batch_size=512, validation_split = 0.2,callbacks=[checkpoint], \n",
        "                    verbose=1)"
      ],
      "metadata": {
        "colab": {
          "base_uri": "https://localhost:8080/"
        },
        "id": "bmK1jDS3FHFN",
        "outputId": "7b5502c2-30d7-4052-c356-e3ef0971b537"
      },
      "execution_count": null,
      "outputs": [
        {
          "output_type": "stream",
          "name": "stdout",
          "text": [
            "Epoch 1/10\n",
            "400/400 [==============================] - ETA: 0s - loss: 2.3263\n",
            "Epoch 1: val_loss improved from inf to 2.30503, saving model to /content/drive/MyDrive/Project/AI/model/lstm_en_vi_1.1.h5\n",
            "400/400 [==============================] - 504s 1s/step - loss: 2.3263 - val_loss: 2.3050\n",
            "Epoch 2/10\n",
            "400/400 [==============================] - ETA: 0s - loss: 2.0791\n",
            "Epoch 2: val_loss improved from 2.30503 to 2.26681, saving model to /content/drive/MyDrive/Project/AI/model/lstm_en_vi_1.1.h5\n",
            "400/400 [==============================] - 502s 1s/step - loss: 2.0791 - val_loss: 2.2668\n",
            "Epoch 3/10\n",
            "400/400 [==============================] - ETA: 0s - loss: 1.9980\n",
            "Epoch 3: val_loss improved from 2.26681 to 2.17605, saving model to /content/drive/MyDrive/Project/AI/model/lstm_en_vi_1.1.h5\n",
            "400/400 [==============================] - 502s 1s/step - loss: 1.9980 - val_loss: 2.1760\n",
            "Epoch 4/10\n",
            "400/400 [==============================] - ETA: 0s - loss: 1.9213\n",
            "Epoch 4: val_loss improved from 2.17605 to 2.10819, saving model to /content/drive/MyDrive/Project/AI/model/lstm_en_vi_1.1.h5\n",
            "400/400 [==============================] - 463s 1s/step - loss: 1.9213 - val_loss: 2.1082\n",
            "Epoch 5/10\n",
            "400/400 [==============================] - ETA: 0s - loss: 1.8444\n",
            "Epoch 5: val_loss improved from 2.10819 to 2.05583, saving model to /content/drive/MyDrive/Project/AI/model/lstm_en_vi_1.1.h5\n",
            "400/400 [==============================] - 505s 1s/step - loss: 1.8444 - val_loss: 2.0558\n",
            "Epoch 6/10\n",
            "400/400 [==============================] - ETA: 0s - loss: 1.7712\n",
            "Epoch 6: val_loss improved from 2.05583 to 1.96256, saving model to /content/drive/MyDrive/Project/AI/model/lstm_en_vi_1.1.h5\n",
            "400/400 [==============================] - 503s 1s/step - loss: 1.7712 - val_loss: 1.9626\n",
            "Epoch 7/10\n",
            "400/400 [==============================] - ETA: 0s - loss: 1.7051\n",
            "Epoch 7: val_loss improved from 1.96256 to 1.92812, saving model to /content/drive/MyDrive/Project/AI/model/lstm_en_vi_1.1.h5\n",
            "400/400 [==============================] - 463s 1s/step - loss: 1.7051 - val_loss: 1.9281\n",
            "Epoch 8/10\n",
            "400/400 [==============================] - ETA: 0s - loss: 1.6474\n",
            "Epoch 8: val_loss improved from 1.92812 to 1.89370, saving model to /content/drive/MyDrive/Project/AI/model/lstm_en_vi_1.1.h5\n",
            "400/400 [==============================] - 503s 1s/step - loss: 1.6474 - val_loss: 1.8937\n",
            "Epoch 9/10\n",
            "400/400 [==============================] - ETA: 0s - loss: 1.5963\n",
            "Epoch 9: val_loss improved from 1.89370 to 1.84360, saving model to /content/drive/MyDrive/Project/AI/model/lstm_en_vi_1.1.h5\n",
            "400/400 [==============================] - 503s 1s/step - loss: 1.5963 - val_loss: 1.8436\n",
            "Epoch 10/10\n",
            "400/400 [==============================] - ETA: 0s - loss: 1.5513\n",
            "Epoch 10: val_loss improved from 1.84360 to 1.82352, saving model to /content/drive/MyDrive/Project/AI/model/lstm_en_vi_1.1.h5\n",
            "400/400 [==============================] - 464s 1s/step - loss: 1.5513 - val_loss: 1.8235\n"
          ]
        }
      ]
    },
    {
      "cell_type": "code",
      "source": [
        "model = load_model('/content/drive/MyDrive/Project/AI/model/lstm_en_vi_1.1.h5')"
      ],
      "metadata": {
        "id": "ESdCut2qxfN_"
      },
      "execution_count": null,
      "outputs": []
    },
    {
      "cell_type": "code",
      "source": [
        "en_test = [\"I am a human.\", \"She has two children.\", \"I have an apple\", \"he\", \"she\", \"water\"]\n",
        "vi_test = [\"Tôi là một con người.\", \"Cô ấy có hai đứa trẻ.\", \"Tôi có một quả táo\", \"anh ấy\", \"cô ấy\", \"nước\"]\n",
        "\n",
        "testX = encode_sequences(eng_tokenizer, eng_length, en_test)\n",
        "testY = encode_sequences(vi_tokenizer, vi_length, vi_test)\n",
        "\n",
        "preds = argmax(model.predict(testX.reshape((testX.shape[0],testX.shape[1]))), axis=-1)"
      ],
      "metadata": {
        "id": "s24T0rqYpJMY",
        "colab": {
          "base_uri": "https://localhost:8080/"
        },
        "outputId": "8337f705-7e86-4c54-8334-aacaae40ebae"
      },
      "execution_count": null,
      "outputs": [
        {
          "output_type": "stream",
          "name": "stdout",
          "text": [
            "1/1 [==============================] - 2s 2s/step\n"
          ]
        }
      ]
    },
    {
      "cell_type": "code",
      "source": [
        "def get_word(n, tokenizer):\n",
        "    for word, index in tokenizer.word_index.items():\n",
        "        if index == n:\n",
        "            return word\n",
        "    return None"
      ],
      "metadata": {
        "id": "ueU4bZirWhUG"
      },
      "execution_count": null,
      "outputs": []
    },
    {
      "cell_type": "code",
      "source": [
        "preds_text = []\n",
        "for i in preds:\n",
        "    temp = []\n",
        "    for j in range(len(i)):\n",
        "        t = get_word(i[j], vi_tokenizer)\n",
        "        if j > 0:\n",
        "            if (t == get_word(i[j-1], vi_tokenizer)) or (t == None):\n",
        "                temp.append('')\n",
        "            else:\n",
        "                temp.append(t)\n",
        "        else:\n",
        "            if(t == None):\n",
        "                temp.append('')\n",
        "            else:\n",
        "                temp.append(t) \n",
        "\n",
        "    preds_text.append(' '.join(temp))"
      ],
      "metadata": {
        "id": "kdfotmEBWkhq"
      },
      "execution_count": null,
      "outputs": []
    },
    {
      "cell_type": "code",
      "source": [
        "pred_df = pd.DataFrame({'original': en_test,'actual' : vi_test, 'predicted' : preds_text})"
      ],
      "metadata": {
        "id": "n4ZI0bK9W3Ed"
      },
      "execution_count": null,
      "outputs": []
    },
    {
      "cell_type": "code",
      "source": [
        "pred_df.head(7)"
      ],
      "metadata": {
        "colab": {
          "base_uri": "https://localhost:8080/",
          "height": 237
        },
        "id": "mOK9_N5QW9M_",
        "outputId": "119ed8e4-b140-4ccc-c44e-850814c7798f"
      },
      "execution_count": null,
      "outputs": [
        {
          "output_type": "execute_result",
          "data": {
            "text/plain": [
              "                original                 actual  \\\n",
              "0          I am a human.  Tôi là một con người.   \n",
              "1  She has two children.  Cô ấy có hai đứa trẻ.   \n",
              "2        I have an apple     Tôi có một quả táo   \n",
              "3                     he                 anh ấy   \n",
              "4                    she                  cô ấy   \n",
              "5                  water                   nước   \n",
              "\n",
              "                                                                  predicted  \n",
              "0  tôi là một người                                                          \n",
              "1   cô bé có hai trẻ                                                         \n",
              "2       tôi có một                                                           \n",
              "3            anh                                                             \n",
              "4             cô                                                             \n",
              "5         có nước                                                            "
            ],
            "text/html": [
              "\n",
              "  <div id=\"df-5e10f070-595b-421a-bb9c-f89fa7460424\">\n",
              "    <div class=\"colab-df-container\">\n",
              "      <div>\n",
              "<style scoped>\n",
              "    .dataframe tbody tr th:only-of-type {\n",
              "        vertical-align: middle;\n",
              "    }\n",
              "\n",
              "    .dataframe tbody tr th {\n",
              "        vertical-align: top;\n",
              "    }\n",
              "\n",
              "    .dataframe thead th {\n",
              "        text-align: right;\n",
              "    }\n",
              "</style>\n",
              "<table border=\"1\" class=\"dataframe\">\n",
              "  <thead>\n",
              "    <tr style=\"text-align: right;\">\n",
              "      <th></th>\n",
              "      <th>original</th>\n",
              "      <th>actual</th>\n",
              "      <th>predicted</th>\n",
              "    </tr>\n",
              "  </thead>\n",
              "  <tbody>\n",
              "    <tr>\n",
              "      <th>0</th>\n",
              "      <td>I am a human.</td>\n",
              "      <td>Tôi là một con người.</td>\n",
              "      <td>tôi là một người</td>\n",
              "    </tr>\n",
              "    <tr>\n",
              "      <th>1</th>\n",
              "      <td>She has two children.</td>\n",
              "      <td>Cô ấy có hai đứa trẻ.</td>\n",
              "      <td>cô bé có hai trẻ</td>\n",
              "    </tr>\n",
              "    <tr>\n",
              "      <th>2</th>\n",
              "      <td>I have an apple</td>\n",
              "      <td>Tôi có một quả táo</td>\n",
              "      <td>tôi có một</td>\n",
              "    </tr>\n",
              "    <tr>\n",
              "      <th>3</th>\n",
              "      <td>he</td>\n",
              "      <td>anh ấy</td>\n",
              "      <td>anh</td>\n",
              "    </tr>\n",
              "    <tr>\n",
              "      <th>4</th>\n",
              "      <td>she</td>\n",
              "      <td>cô ấy</td>\n",
              "      <td>cô</td>\n",
              "    </tr>\n",
              "    <tr>\n",
              "      <th>5</th>\n",
              "      <td>water</td>\n",
              "      <td>nước</td>\n",
              "      <td>có nước</td>\n",
              "    </tr>\n",
              "  </tbody>\n",
              "</table>\n",
              "</div>\n",
              "      <button class=\"colab-df-convert\" onclick=\"convertToInteractive('df-5e10f070-595b-421a-bb9c-f89fa7460424')\"\n",
              "              title=\"Convert this dataframe to an interactive table.\"\n",
              "              style=\"display:none;\">\n",
              "        \n",
              "  <svg xmlns=\"http://www.w3.org/2000/svg\" height=\"24px\"viewBox=\"0 0 24 24\"\n",
              "       width=\"24px\">\n",
              "    <path d=\"M0 0h24v24H0V0z\" fill=\"none\"/>\n",
              "    <path d=\"M18.56 5.44l.94 2.06.94-2.06 2.06-.94-2.06-.94-.94-2.06-.94 2.06-2.06.94zm-11 1L8.5 8.5l.94-2.06 2.06-.94-2.06-.94L8.5 2.5l-.94 2.06-2.06.94zm10 10l.94 2.06.94-2.06 2.06-.94-2.06-.94-.94-2.06-.94 2.06-2.06.94z\"/><path d=\"M17.41 7.96l-1.37-1.37c-.4-.4-.92-.59-1.43-.59-.52 0-1.04.2-1.43.59L10.3 9.45l-7.72 7.72c-.78.78-.78 2.05 0 2.83L4 21.41c.39.39.9.59 1.41.59.51 0 1.02-.2 1.41-.59l7.78-7.78 2.81-2.81c.8-.78.8-2.07 0-2.86zM5.41 20L4 18.59l7.72-7.72 1.47 1.35L5.41 20z\"/>\n",
              "  </svg>\n",
              "      </button>\n",
              "      \n",
              "  <style>\n",
              "    .colab-df-container {\n",
              "      display:flex;\n",
              "      flex-wrap:wrap;\n",
              "      gap: 12px;\n",
              "    }\n",
              "\n",
              "    .colab-df-convert {\n",
              "      background-color: #E8F0FE;\n",
              "      border: none;\n",
              "      border-radius: 50%;\n",
              "      cursor: pointer;\n",
              "      display: none;\n",
              "      fill: #1967D2;\n",
              "      height: 32px;\n",
              "      padding: 0 0 0 0;\n",
              "      width: 32px;\n",
              "    }\n",
              "\n",
              "    .colab-df-convert:hover {\n",
              "      background-color: #E2EBFA;\n",
              "      box-shadow: 0px 1px 2px rgba(60, 64, 67, 0.3), 0px 1px 3px 1px rgba(60, 64, 67, 0.15);\n",
              "      fill: #174EA6;\n",
              "    }\n",
              "\n",
              "    [theme=dark] .colab-df-convert {\n",
              "      background-color: #3B4455;\n",
              "      fill: #D2E3FC;\n",
              "    }\n",
              "\n",
              "    [theme=dark] .colab-df-convert:hover {\n",
              "      background-color: #434B5C;\n",
              "      box-shadow: 0px 1px 3px 1px rgba(0, 0, 0, 0.15);\n",
              "      filter: drop-shadow(0px 1px 2px rgba(0, 0, 0, 0.3));\n",
              "      fill: #FFFFFF;\n",
              "    }\n",
              "  </style>\n",
              "\n",
              "      <script>\n",
              "        const buttonEl =\n",
              "          document.querySelector('#df-5e10f070-595b-421a-bb9c-f89fa7460424 button.colab-df-convert');\n",
              "        buttonEl.style.display =\n",
              "          google.colab.kernel.accessAllowed ? 'block' : 'none';\n",
              "\n",
              "        async function convertToInteractive(key) {\n",
              "          const element = document.querySelector('#df-5e10f070-595b-421a-bb9c-f89fa7460424');\n",
              "          const dataTable =\n",
              "            await google.colab.kernel.invokeFunction('convertToInteractive',\n",
              "                                                     [key], {});\n",
              "          if (!dataTable) return;\n",
              "\n",
              "          const docLinkHtml = 'Like what you see? Visit the ' +\n",
              "            '<a target=\"_blank\" href=https://colab.research.google.com/notebooks/data_table.ipynb>data table notebook</a>'\n",
              "            + ' to learn more about interactive tables.';\n",
              "          element.innerHTML = '';\n",
              "          dataTable['output_type'] = 'display_data';\n",
              "          await google.colab.output.renderOutput(dataTable, element);\n",
              "          const docLink = document.createElement('div');\n",
              "          docLink.innerHTML = docLinkHtml;\n",
              "          element.appendChild(docLink);\n",
              "        }\n",
              "      </script>\n",
              "    </div>\n",
              "  </div>\n",
              "  "
            ]
          },
          "metadata": {},
          "execution_count": 21
        }
      ]
    },
    {
      "cell_type": "code",
      "source": [
        "# Plot loss\n",
        "fig = plt.figure\n",
        "plt.plot(history.history['loss'])\n",
        "plt.plot(history.history['val_loss'])\n",
        "plt.legend(['train','validation'])\n",
        "\n",
        "#then save it\n",
        "plt.savefig('/content/drive/MyDrive/Project/AI/final/loss_graph.png', dpi=900)\n",
        "\n",
        "#finally .show() or .draw() it in this order\n",
        "plt.show()"
      ],
      "metadata": {
        "colab": {
          "base_uri": "https://localhost:8080/",
          "height": 265
        },
        "id": "5C-5vHWmYjLi",
        "outputId": "2055d7ab-177a-4c4f-c0ac-a0cba96e90e1"
      },
      "execution_count": null,
      "outputs": [
        {
          "output_type": "display_data",
          "data": {
            "text/plain": [
              "<Figure size 432x288 with 1 Axes>"
            ],
            "image/png": "[encoded data removed]"
          },
          "metadata": {
            "needs_background": "light"
          }
        }
      ]
    }
  ]
}